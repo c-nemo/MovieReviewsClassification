{
 "cells": [
  {
   "cell_type": "code",
   "execution_count": 1,
   "metadata": {
    "collapsed": true
   },
   "outputs": [],
   "source": [
    "import pandas as pd"
   ]
  },
  {
   "cell_type": "code",
   "execution_count": 2,
   "outputs": [],
   "source": [
    "tr = 'eng_1-10_multi/IMDB_train.csv'\n",
    "te = 'eng_1-10_multi/IMDB_test.csv'\n",
    "\n",
    "tr1 = 'under_multi/IMDB_train_1.csv'\n",
    "tr2 = 'under_multi/IMDB_train_2.csv'\n",
    "newte = 'under_multi/IMDB_test.csv'"
   ],
   "metadata": {
    "collapsed": false,
    "pycharm": {
     "name": "#%%\n"
    }
   }
  },
  {
   "cell_type": "code",
   "execution_count": 3,
   "outputs": [],
   "source": [
    "def undersample(tr, te, tr1, tr2, newte, decr=True):\n",
    "\n",
    "    df_train = pd.read_csv(tr)\n",
    "    df_test = pd.read_csv(te)\n",
    "\n",
    "    if decr:\n",
    "        df_train['star_label'] = df_train['star_label'].apply(lambda x: x - 1)\n",
    "        df_test['star_label'] = df_test['star_label'].apply(lambda x: x - 1)\n",
    "\n",
    "    class_0_train = df_train[df_train['star_label'] == 0]\n",
    "    class_9_train = df_train[df_train['star_label'] == 9]\n",
    "    train = df_train[(df_train['star_label'] != 9) & (df_train['star_label'] != 0)]\n",
    "\n",
    "    class_0_train_1 = class_0_train[:2500]\n",
    "    class_9_train_1 = class_9_train[:2500]\n",
    "    class_0_train_2 = class_0_train[2500:]\n",
    "    class_9_train_2 = class_9_train[2500:]\n",
    "\n",
    "    train_1 = pd.concat([class_0_train_1, class_9_train_1, train], axis=0)\n",
    "    train_2 = pd.concat([class_0_train_2, class_9_train_2, train], axis=0)\n",
    "\n",
    "    csv1 = train_1.to_csv(tr1, index=False)\n",
    "    csv3 = train_2.to_csv(tr2, index=False)\n",
    "    csv4 = df_test.to_csv(newte, index=False)\n",
    "\n",
    "    return train_1, train_2, df_test"
   ],
   "metadata": {
    "collapsed": false,
    "pycharm": {
     "name": "#%%\n"
    }
   }
  },
  {
   "cell_type": "code",
   "execution_count": 4,
   "outputs": [],
   "source": [
    "t1, t2, test = undersample(tr, te, tr1, tr2, newte, decr=True)"
   ],
   "metadata": {
    "collapsed": false,
    "pycharm": {
     "name": "#%%\n"
    }
   }
  },
  {
   "cell_type": "code",
   "execution_count": 5,
   "outputs": [
    {
     "data": {
      "text/plain": "                                             review_text  star_label  \\\n3      Sorry everyone,,, I know this is supposed to b...           0   \n4      When I was little my parents took me along to ...           0   \n8      This film is mediocre at best. Angie Harmon is...           0   \n10     This film is one giant pant load. Paul Schrade...           0   \n14     This movie must be in line for the most boring...           0   \n...                                                  ...         ...   \n24994  Life Stinks (1991) was a step below Mel Brooks...           6   \n24995  Seeing as the vote average was pretty low, and...           8   \n24996  The plot had some wretched, unbelievable twist...           7   \n24998  A Christmas Together actually came before my t...           7   \n24999  Working-class romantic drama from director Mar...           6   \n\n       binary_label  over_1  over_2  over_3  over_4  over_5  over_6  over_7  \\\n3                 0       0       0       0       0       0       0       0   \n4                 0       0       0       0       0       0       0       0   \n8                 0       0       0       0       0       0       0       0   \n10                0       0       0       0       0       0       0       0   \n14                0       0       0       0       0       0       0       0   \n...             ...     ...     ...     ...     ...     ...     ...     ...   \n24994             1       1       1       1       1       1       1       0   \n24995             1       1       1       1       1       1       1       1   \n24996             1       1       1       1       1       1       1       1   \n24998             1       1       1       1       1       1       1       1   \n24999             1       1       1       1       1       1       1       0   \n\n       over_8  over_9  \n3           0       0  \n4           0       0  \n8           0       0  \n10          0       0  \n14          0       0  \n...       ...     ...  \n24994       0       0  \n24995       1       0  \n24996       0       0  \n24998       0       0  \n24999       0       0  \n\n[20168 rows x 12 columns]",
      "text/html": "<div>\n<style scoped>\n    .dataframe tbody tr th:only-of-type {\n        vertical-align: middle;\n    }\n\n    .dataframe tbody tr th {\n        vertical-align: top;\n    }\n\n    .dataframe thead th {\n        text-align: right;\n    }\n</style>\n<table border=\"1\" class=\"dataframe\">\n  <thead>\n    <tr style=\"text-align: right;\">\n      <th></th>\n      <th>review_text</th>\n      <th>star_label</th>\n      <th>binary_label</th>\n      <th>over_1</th>\n      <th>over_2</th>\n      <th>over_3</th>\n      <th>over_4</th>\n      <th>over_5</th>\n      <th>over_6</th>\n      <th>over_7</th>\n      <th>over_8</th>\n      <th>over_9</th>\n    </tr>\n  </thead>\n  <tbody>\n    <tr>\n      <th>3</th>\n      <td>Sorry everyone,,, I know this is supposed to b...</td>\n      <td>0</td>\n      <td>0</td>\n      <td>0</td>\n      <td>0</td>\n      <td>0</td>\n      <td>0</td>\n      <td>0</td>\n      <td>0</td>\n      <td>0</td>\n      <td>0</td>\n      <td>0</td>\n    </tr>\n    <tr>\n      <th>4</th>\n      <td>When I was little my parents took me along to ...</td>\n      <td>0</td>\n      <td>0</td>\n      <td>0</td>\n      <td>0</td>\n      <td>0</td>\n      <td>0</td>\n      <td>0</td>\n      <td>0</td>\n      <td>0</td>\n      <td>0</td>\n      <td>0</td>\n    </tr>\n    <tr>\n      <th>8</th>\n      <td>This film is mediocre at best. Angie Harmon is...</td>\n      <td>0</td>\n      <td>0</td>\n      <td>0</td>\n      <td>0</td>\n      <td>0</td>\n      <td>0</td>\n      <td>0</td>\n      <td>0</td>\n      <td>0</td>\n      <td>0</td>\n      <td>0</td>\n    </tr>\n    <tr>\n      <th>10</th>\n      <td>This film is one giant pant load. Paul Schrade...</td>\n      <td>0</td>\n      <td>0</td>\n      <td>0</td>\n      <td>0</td>\n      <td>0</td>\n      <td>0</td>\n      <td>0</td>\n      <td>0</td>\n      <td>0</td>\n      <td>0</td>\n      <td>0</td>\n    </tr>\n    <tr>\n      <th>14</th>\n      <td>This movie must be in line for the most boring...</td>\n      <td>0</td>\n      <td>0</td>\n      <td>0</td>\n      <td>0</td>\n      <td>0</td>\n      <td>0</td>\n      <td>0</td>\n      <td>0</td>\n      <td>0</td>\n      <td>0</td>\n      <td>0</td>\n    </tr>\n    <tr>\n      <th>...</th>\n      <td>...</td>\n      <td>...</td>\n      <td>...</td>\n      <td>...</td>\n      <td>...</td>\n      <td>...</td>\n      <td>...</td>\n      <td>...</td>\n      <td>...</td>\n      <td>...</td>\n      <td>...</td>\n      <td>...</td>\n    </tr>\n    <tr>\n      <th>24994</th>\n      <td>Life Stinks (1991) was a step below Mel Brooks...</td>\n      <td>6</td>\n      <td>1</td>\n      <td>1</td>\n      <td>1</td>\n      <td>1</td>\n      <td>1</td>\n      <td>1</td>\n      <td>1</td>\n      <td>0</td>\n      <td>0</td>\n      <td>0</td>\n    </tr>\n    <tr>\n      <th>24995</th>\n      <td>Seeing as the vote average was pretty low, and...</td>\n      <td>8</td>\n      <td>1</td>\n      <td>1</td>\n      <td>1</td>\n      <td>1</td>\n      <td>1</td>\n      <td>1</td>\n      <td>1</td>\n      <td>1</td>\n      <td>1</td>\n      <td>0</td>\n    </tr>\n    <tr>\n      <th>24996</th>\n      <td>The plot had some wretched, unbelievable twist...</td>\n      <td>7</td>\n      <td>1</td>\n      <td>1</td>\n      <td>1</td>\n      <td>1</td>\n      <td>1</td>\n      <td>1</td>\n      <td>1</td>\n      <td>1</td>\n      <td>0</td>\n      <td>0</td>\n    </tr>\n    <tr>\n      <th>24998</th>\n      <td>A Christmas Together actually came before my t...</td>\n      <td>7</td>\n      <td>1</td>\n      <td>1</td>\n      <td>1</td>\n      <td>1</td>\n      <td>1</td>\n      <td>1</td>\n      <td>1</td>\n      <td>1</td>\n      <td>0</td>\n      <td>0</td>\n    </tr>\n    <tr>\n      <th>24999</th>\n      <td>Working-class romantic drama from director Mar...</td>\n      <td>6</td>\n      <td>1</td>\n      <td>1</td>\n      <td>1</td>\n      <td>1</td>\n      <td>1</td>\n      <td>1</td>\n      <td>1</td>\n      <td>0</td>\n      <td>0</td>\n      <td>0</td>\n    </tr>\n  </tbody>\n</table>\n<p>20168 rows × 12 columns</p>\n</div>"
     },
     "execution_count": 5,
     "metadata": {},
     "output_type": "execute_result"
    }
   ],
   "source": [
    "t1"
   ],
   "metadata": {
    "collapsed": false,
    "pycharm": {
     "name": "#%%\n"
    }
   }
  },
  {
   "cell_type": "code",
   "execution_count": 6,
   "outputs": [
    {
     "data": {
      "text/plain": "                                             review_text  star_label  \\\n6009   In this strangely-lackadaisical apocalypse, th...           0   \n6011   This was quite possibly the worst movie I have...           0   \n6012   A stuttering plot, uninteresting characters an...           0   \n6013   If you really enjoyed the 2002 Resident Evil m...           0   \n6022   This is just flat out unwatchable. If there's ...           0   \n...                                                  ...         ...   \n24994  Life Stinks (1991) was a step below Mel Brooks...           6   \n24995  Seeing as the vote average was pretty low, and...           8   \n24996  The plot had some wretched, unbelievable twist...           7   \n24998  A Christmas Together actually came before my t...           7   \n24999  Working-class romantic drama from director Mar...           6   \n\n       binary_label  over_1  over_2  over_3  over_4  over_5  over_6  over_7  \\\n6009              0       0       0       0       0       0       0       0   \n6011              0       0       0       0       0       0       0       0   \n6012              0       0       0       0       0       0       0       0   \n6013              0       0       0       0       0       0       0       0   \n6022              0       0       0       0       0       0       0       0   \n...             ...     ...     ...     ...     ...     ...     ...     ...   \n24994             1       1       1       1       1       1       1       0   \n24995             1       1       1       1       1       1       1       1   \n24996             1       1       1       1       1       1       1       1   \n24998             1       1       1       1       1       1       1       1   \n24999             1       1       1       1       1       1       1       0   \n\n       over_8  over_9  \n6009        0       0  \n6011        0       0  \n6012        0       0  \n6013        0       0  \n6022        0       0  \n...       ...     ...  \n24994       0       0  \n24995       1       0  \n24996       0       0  \n24998       0       0  \n24999       0       0  \n\n[20000 rows x 12 columns]",
      "text/html": "<div>\n<style scoped>\n    .dataframe tbody tr th:only-of-type {\n        vertical-align: middle;\n    }\n\n    .dataframe tbody tr th {\n        vertical-align: top;\n    }\n\n    .dataframe thead th {\n        text-align: right;\n    }\n</style>\n<table border=\"1\" class=\"dataframe\">\n  <thead>\n    <tr style=\"text-align: right;\">\n      <th></th>\n      <th>review_text</th>\n      <th>star_label</th>\n      <th>binary_label</th>\n      <th>over_1</th>\n      <th>over_2</th>\n      <th>over_3</th>\n      <th>over_4</th>\n      <th>over_5</th>\n      <th>over_6</th>\n      <th>over_7</th>\n      <th>over_8</th>\n      <th>over_9</th>\n    </tr>\n  </thead>\n  <tbody>\n    <tr>\n      <th>6009</th>\n      <td>In this strangely-lackadaisical apocalypse, th...</td>\n      <td>0</td>\n      <td>0</td>\n      <td>0</td>\n      <td>0</td>\n      <td>0</td>\n      <td>0</td>\n      <td>0</td>\n      <td>0</td>\n      <td>0</td>\n      <td>0</td>\n      <td>0</td>\n    </tr>\n    <tr>\n      <th>6011</th>\n      <td>This was quite possibly the worst movie I have...</td>\n      <td>0</td>\n      <td>0</td>\n      <td>0</td>\n      <td>0</td>\n      <td>0</td>\n      <td>0</td>\n      <td>0</td>\n      <td>0</td>\n      <td>0</td>\n      <td>0</td>\n      <td>0</td>\n    </tr>\n    <tr>\n      <th>6012</th>\n      <td>A stuttering plot, uninteresting characters an...</td>\n      <td>0</td>\n      <td>0</td>\n      <td>0</td>\n      <td>0</td>\n      <td>0</td>\n      <td>0</td>\n      <td>0</td>\n      <td>0</td>\n      <td>0</td>\n      <td>0</td>\n      <td>0</td>\n    </tr>\n    <tr>\n      <th>6013</th>\n      <td>If you really enjoyed the 2002 Resident Evil m...</td>\n      <td>0</td>\n      <td>0</td>\n      <td>0</td>\n      <td>0</td>\n      <td>0</td>\n      <td>0</td>\n      <td>0</td>\n      <td>0</td>\n      <td>0</td>\n      <td>0</td>\n      <td>0</td>\n    </tr>\n    <tr>\n      <th>6022</th>\n      <td>This is just flat out unwatchable. If there's ...</td>\n      <td>0</td>\n      <td>0</td>\n      <td>0</td>\n      <td>0</td>\n      <td>0</td>\n      <td>0</td>\n      <td>0</td>\n      <td>0</td>\n      <td>0</td>\n      <td>0</td>\n      <td>0</td>\n    </tr>\n    <tr>\n      <th>...</th>\n      <td>...</td>\n      <td>...</td>\n      <td>...</td>\n      <td>...</td>\n      <td>...</td>\n      <td>...</td>\n      <td>...</td>\n      <td>...</td>\n      <td>...</td>\n      <td>...</td>\n      <td>...</td>\n      <td>...</td>\n    </tr>\n    <tr>\n      <th>24994</th>\n      <td>Life Stinks (1991) was a step below Mel Brooks...</td>\n      <td>6</td>\n      <td>1</td>\n      <td>1</td>\n      <td>1</td>\n      <td>1</td>\n      <td>1</td>\n      <td>1</td>\n      <td>1</td>\n      <td>0</td>\n      <td>0</td>\n      <td>0</td>\n    </tr>\n    <tr>\n      <th>24995</th>\n      <td>Seeing as the vote average was pretty low, and...</td>\n      <td>8</td>\n      <td>1</td>\n      <td>1</td>\n      <td>1</td>\n      <td>1</td>\n      <td>1</td>\n      <td>1</td>\n      <td>1</td>\n      <td>1</td>\n      <td>1</td>\n      <td>0</td>\n    </tr>\n    <tr>\n      <th>24996</th>\n      <td>The plot had some wretched, unbelievable twist...</td>\n      <td>7</td>\n      <td>1</td>\n      <td>1</td>\n      <td>1</td>\n      <td>1</td>\n      <td>1</td>\n      <td>1</td>\n      <td>1</td>\n      <td>1</td>\n      <td>0</td>\n      <td>0</td>\n    </tr>\n    <tr>\n      <th>24998</th>\n      <td>A Christmas Together actually came before my t...</td>\n      <td>7</td>\n      <td>1</td>\n      <td>1</td>\n      <td>1</td>\n      <td>1</td>\n      <td>1</td>\n      <td>1</td>\n      <td>1</td>\n      <td>1</td>\n      <td>0</td>\n      <td>0</td>\n    </tr>\n    <tr>\n      <th>24999</th>\n      <td>Working-class romantic drama from director Mar...</td>\n      <td>6</td>\n      <td>1</td>\n      <td>1</td>\n      <td>1</td>\n      <td>1</td>\n      <td>1</td>\n      <td>1</td>\n      <td>1</td>\n      <td>0</td>\n      <td>0</td>\n      <td>0</td>\n    </tr>\n  </tbody>\n</table>\n<p>20000 rows × 12 columns</p>\n</div>"
     },
     "execution_count": 6,
     "metadata": {},
     "output_type": "execute_result"
    }
   ],
   "source": [
    "t2"
   ],
   "metadata": {
    "collapsed": false,
    "pycharm": {
     "name": "#%%\n"
    }
   }
  },
  {
   "cell_type": "code",
   "execution_count": 7,
   "outputs": [
    {
     "data": {
      "text/plain": "                                             review_text  star_label  \\\n0      Once again Mr. Costner has dragged out a movie...           1   \n1      This is an example of why the majority of acti...           3   \n2      First of all I hate those moronic rappers, who...           0   \n3      Not even the Beatles could write songs everyon...           2   \n4      Brass pictures (movies is not a fitting word f...           2   \n...                                                  ...         ...   \n24995  I was extraordinarily impressed by this film. ...           7   \n24996  Although I'm not a golf fan, I attended a snea...           9   \n24997  From the start of \"The Edge Of Love\", the view...           7   \n24998  This movie, with all its complexity and subtle...           9   \n24999  I've seen this story before but my kids haven'...           6   \n\n       binary_label  over_1  over_2  over_3  over_4  over_5  over_6  over_7  \\\n0                 0       1       0       0       0       0       0       0   \n1                 0       1       1       1       0       0       0       0   \n2                 0       0       0       0       0       0       0       0   \n3                 0       1       1       0       0       0       0       0   \n4                 0       1       1       0       0       0       0       0   \n...             ...     ...     ...     ...     ...     ...     ...     ...   \n24995             1       1       1       1       1       1       1       1   \n24996             1       1       1       1       1       1       1       1   \n24997             1       1       1       1       1       1       1       1   \n24998             1       1       1       1       1       1       1       1   \n24999             1       1       1       1       1       1       1       0   \n\n       over_8  over_9  \n0           0       0  \n1           0       0  \n2           0       0  \n3           0       0  \n4           0       0  \n...       ...     ...  \n24995       0       0  \n24996       1       1  \n24997       0       0  \n24998       1       1  \n24999       0       0  \n\n[25000 rows x 12 columns]",
      "text/html": "<div>\n<style scoped>\n    .dataframe tbody tr th:only-of-type {\n        vertical-align: middle;\n    }\n\n    .dataframe tbody tr th {\n        vertical-align: top;\n    }\n\n    .dataframe thead th {\n        text-align: right;\n    }\n</style>\n<table border=\"1\" class=\"dataframe\">\n  <thead>\n    <tr style=\"text-align: right;\">\n      <th></th>\n      <th>review_text</th>\n      <th>star_label</th>\n      <th>binary_label</th>\n      <th>over_1</th>\n      <th>over_2</th>\n      <th>over_3</th>\n      <th>over_4</th>\n      <th>over_5</th>\n      <th>over_6</th>\n      <th>over_7</th>\n      <th>over_8</th>\n      <th>over_9</th>\n    </tr>\n  </thead>\n  <tbody>\n    <tr>\n      <th>0</th>\n      <td>Once again Mr. Costner has dragged out a movie...</td>\n      <td>1</td>\n      <td>0</td>\n      <td>1</td>\n      <td>0</td>\n      <td>0</td>\n      <td>0</td>\n      <td>0</td>\n      <td>0</td>\n      <td>0</td>\n      <td>0</td>\n      <td>0</td>\n    </tr>\n    <tr>\n      <th>1</th>\n      <td>This is an example of why the majority of acti...</td>\n      <td>3</td>\n      <td>0</td>\n      <td>1</td>\n      <td>1</td>\n      <td>1</td>\n      <td>0</td>\n      <td>0</td>\n      <td>0</td>\n      <td>0</td>\n      <td>0</td>\n      <td>0</td>\n    </tr>\n    <tr>\n      <th>2</th>\n      <td>First of all I hate those moronic rappers, who...</td>\n      <td>0</td>\n      <td>0</td>\n      <td>0</td>\n      <td>0</td>\n      <td>0</td>\n      <td>0</td>\n      <td>0</td>\n      <td>0</td>\n      <td>0</td>\n      <td>0</td>\n      <td>0</td>\n    </tr>\n    <tr>\n      <th>3</th>\n      <td>Not even the Beatles could write songs everyon...</td>\n      <td>2</td>\n      <td>0</td>\n      <td>1</td>\n      <td>1</td>\n      <td>0</td>\n      <td>0</td>\n      <td>0</td>\n      <td>0</td>\n      <td>0</td>\n      <td>0</td>\n      <td>0</td>\n    </tr>\n    <tr>\n      <th>4</th>\n      <td>Brass pictures (movies is not a fitting word f...</td>\n      <td>2</td>\n      <td>0</td>\n      <td>1</td>\n      <td>1</td>\n      <td>0</td>\n      <td>0</td>\n      <td>0</td>\n      <td>0</td>\n      <td>0</td>\n      <td>0</td>\n      <td>0</td>\n    </tr>\n    <tr>\n      <th>...</th>\n      <td>...</td>\n      <td>...</td>\n      <td>...</td>\n      <td>...</td>\n      <td>...</td>\n      <td>...</td>\n      <td>...</td>\n      <td>...</td>\n      <td>...</td>\n      <td>...</td>\n      <td>...</td>\n      <td>...</td>\n    </tr>\n    <tr>\n      <th>24995</th>\n      <td>I was extraordinarily impressed by this film. ...</td>\n      <td>7</td>\n      <td>1</td>\n      <td>1</td>\n      <td>1</td>\n      <td>1</td>\n      <td>1</td>\n      <td>1</td>\n      <td>1</td>\n      <td>1</td>\n      <td>0</td>\n      <td>0</td>\n    </tr>\n    <tr>\n      <th>24996</th>\n      <td>Although I'm not a golf fan, I attended a snea...</td>\n      <td>9</td>\n      <td>1</td>\n      <td>1</td>\n      <td>1</td>\n      <td>1</td>\n      <td>1</td>\n      <td>1</td>\n      <td>1</td>\n      <td>1</td>\n      <td>1</td>\n      <td>1</td>\n    </tr>\n    <tr>\n      <th>24997</th>\n      <td>From the start of \"The Edge Of Love\", the view...</td>\n      <td>7</td>\n      <td>1</td>\n      <td>1</td>\n      <td>1</td>\n      <td>1</td>\n      <td>1</td>\n      <td>1</td>\n      <td>1</td>\n      <td>1</td>\n      <td>0</td>\n      <td>0</td>\n    </tr>\n    <tr>\n      <th>24998</th>\n      <td>This movie, with all its complexity and subtle...</td>\n      <td>9</td>\n      <td>1</td>\n      <td>1</td>\n      <td>1</td>\n      <td>1</td>\n      <td>1</td>\n      <td>1</td>\n      <td>1</td>\n      <td>1</td>\n      <td>1</td>\n      <td>1</td>\n    </tr>\n    <tr>\n      <th>24999</th>\n      <td>I've seen this story before but my kids haven'...</td>\n      <td>6</td>\n      <td>1</td>\n      <td>1</td>\n      <td>1</td>\n      <td>1</td>\n      <td>1</td>\n      <td>1</td>\n      <td>1</td>\n      <td>0</td>\n      <td>0</td>\n      <td>0</td>\n    </tr>\n  </tbody>\n</table>\n<p>25000 rows × 12 columns</p>\n</div>"
     },
     "execution_count": 7,
     "metadata": {},
     "output_type": "execute_result"
    }
   ],
   "source": [
    "test"
   ],
   "metadata": {
    "collapsed": false,
    "pycharm": {
     "name": "#%%\n"
    }
   }
  },
  {
   "cell_type": "code",
   "execution_count": 39,
   "outputs": [],
   "source": [
    "def make_multi(df_train, df_test, newtr, newte):\n",
    "\n",
    "    labels = [\n",
    "        'over_1',\n",
    "        'over_2',\n",
    "        'over_3',\n",
    "        'over_4',\n",
    "        'over_5',\n",
    "        'over_6',\n",
    "        'over_7',\n",
    "        'over_8',\n",
    "        'over_9'\n",
    "    ]\n",
    "\n",
    "    for i in range(9):\n",
    "        df_train[labels[i]] = (df_train['star_label'] > i + 1).astype(int)\n",
    "        df_test[labels[i]] = (df_test['star_label'] > i + 1).astype(int)\n",
    "\n",
    "    csv1 = df_train.to_csv(newtr, index=False)\n",
    "    csv2 = df_test.to_csv(newte, index=False)\n",
    "\n",
    "    return df_train, df_test"
   ],
   "metadata": {
    "collapsed": false,
    "pycharm": {
     "name": "#%%\n"
    }
   }
  }
 ],
 "metadata": {
  "kernelspec": {
   "display_name": "Python 3",
   "language": "python",
   "name": "python3"
  },
  "language_info": {
   "codemirror_mode": {
    "name": "ipython",
    "version": 2
   },
   "file_extension": ".py",
   "mimetype": "text/x-python",
   "name": "python",
   "nbconvert_exporter": "python",
   "pygments_lexer": "ipython2",
   "version": "2.7.6"
  }
 },
 "nbformat": 4,
 "nbformat_minor": 0
}