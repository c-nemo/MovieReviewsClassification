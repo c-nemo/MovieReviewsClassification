{
 "cells": [
  {
   "cell_type": "code",
   "execution_count": 1,
   "metadata": {
    "collapsed": true
   },
   "outputs": [],
   "source": [
    "import pandas as pd\n",
    "import glob\n",
    "from tqdm import tqdm"
   ]
  },
  {
   "cell_type": "code",
   "execution_count": 3,
   "outputs": [],
   "source": [
    "train_len, test_len = 25000, 25000\n",
    "\n",
    "df_train = pd.DataFrame(columns=['review_text', 'star_label', 'binary_label'],\n",
    "                        index=range(train_len))\n",
    "df_test = pd.DataFrame(columns=['review_text', 'star_label', 'binary_label'],\n",
    "                        index=range(test_len))\n",
    "\n",
    "files_train_neg = glob.glob('aclImdb/train/neg/*.txt')\n",
    "files_train_pos = glob.glob('aclImdb/train/pos/*.txt')\n",
    "\n",
    "files_test_neg = glob.glob('aclImdb/test/neg/*.txt')\n",
    "files_test_pos = glob.glob('aclImdb/test/pos/*.txt')"
   ],
   "metadata": {
    "collapsed": false,
    "pycharm": {
     "name": "#%%\n"
    }
   }
  },
  {
   "cell_type": "code",
   "execution_count": 4,
   "outputs": [
    {
     "name": "stderr",
     "output_type": "stream",
     "text": [
      "100%|██████████| 12500/12500 [01:40<00:00, 124.22it/s]\n",
      "100%|██████████| 12500/12500 [01:33<00:00, 133.84it/s]\n"
     ]
    }
   ],
   "source": [
    "i = 0\n",
    "\n",
    "for filepath in tqdm(files_train_neg):\n",
    "    with open(filepath, 'r', encoding=\"utf-8\") as f:\n",
    "        star = int(filepath.split('_')[-1].split('.')[0]) - 1\n",
    "        df_train.loc[i] = [f.read(), star, 0]\n",
    "    i += 1\n",
    "\n",
    "for filepath in tqdm(files_train_pos):\n",
    "    with open(filepath, 'r', encoding=\"utf-8\") as f:\n",
    "        star = int(filepath.split('_')[-1].split('.')[0]) - 1\n",
    "        df_train.loc[i] = [f.read(), star, 1]\n",
    "    i += 1"
   ],
   "metadata": {
    "collapsed": false,
    "pycharm": {
     "name": "#%%\n"
    }
   }
  },
  {
   "cell_type": "code",
   "execution_count": 5,
   "outputs": [
    {
     "data": {
      "text/plain": "                                             review_text star_label  \\\n0      Story of a man who has unnatural feelings for ...          2   \n1      Airport '77 starts as a brand new luxury 747 p...          3   \n2      This film lacked something I couldn't put my f...          3   \n3      Sorry everyone,,, I know this is supposed to b...          0   \n4      When I was little my parents took me along to ...          0   \n...                                                  ...        ...   \n24995  Seeing as the vote average was pretty low, and...          8   \n24996  The plot had some wretched, unbelievable twist...          7   \n24997  I am amazed at how this movie(and most others ...          9   \n24998  A Christmas Together actually came before my t...          7   \n24999  Working-class romantic drama from director Mar...          6   \n\n      binary_label  \n0                0  \n1                0  \n2                0  \n3                0  \n4                0  \n...            ...  \n24995            1  \n24996            1  \n24997            1  \n24998            1  \n24999            1  \n\n[25000 rows x 3 columns]",
      "text/html": "<div>\n<style scoped>\n    .dataframe tbody tr th:only-of-type {\n        vertical-align: middle;\n    }\n\n    .dataframe tbody tr th {\n        vertical-align: top;\n    }\n\n    .dataframe thead th {\n        text-align: right;\n    }\n</style>\n<table border=\"1\" class=\"dataframe\">\n  <thead>\n    <tr style=\"text-align: right;\">\n      <th></th>\n      <th>review_text</th>\n      <th>star_label</th>\n      <th>binary_label</th>\n    </tr>\n  </thead>\n  <tbody>\n    <tr>\n      <th>0</th>\n      <td>Story of a man who has unnatural feelings for ...</td>\n      <td>2</td>\n      <td>0</td>\n    </tr>\n    <tr>\n      <th>1</th>\n      <td>Airport '77 starts as a brand new luxury 747 p...</td>\n      <td>3</td>\n      <td>0</td>\n    </tr>\n    <tr>\n      <th>2</th>\n      <td>This film lacked something I couldn't put my f...</td>\n      <td>3</td>\n      <td>0</td>\n    </tr>\n    <tr>\n      <th>3</th>\n      <td>Sorry everyone,,, I know this is supposed to b...</td>\n      <td>0</td>\n      <td>0</td>\n    </tr>\n    <tr>\n      <th>4</th>\n      <td>When I was little my parents took me along to ...</td>\n      <td>0</td>\n      <td>0</td>\n    </tr>\n    <tr>\n      <th>...</th>\n      <td>...</td>\n      <td>...</td>\n      <td>...</td>\n    </tr>\n    <tr>\n      <th>24995</th>\n      <td>Seeing as the vote average was pretty low, and...</td>\n      <td>8</td>\n      <td>1</td>\n    </tr>\n    <tr>\n      <th>24996</th>\n      <td>The plot had some wretched, unbelievable twist...</td>\n      <td>7</td>\n      <td>1</td>\n    </tr>\n    <tr>\n      <th>24997</th>\n      <td>I am amazed at how this movie(and most others ...</td>\n      <td>9</td>\n      <td>1</td>\n    </tr>\n    <tr>\n      <th>24998</th>\n      <td>A Christmas Together actually came before my t...</td>\n      <td>7</td>\n      <td>1</td>\n    </tr>\n    <tr>\n      <th>24999</th>\n      <td>Working-class romantic drama from director Mar...</td>\n      <td>6</td>\n      <td>1</td>\n    </tr>\n  </tbody>\n</table>\n<p>25000 rows × 3 columns</p>\n</div>"
     },
     "execution_count": 5,
     "metadata": {},
     "output_type": "execute_result"
    }
   ],
   "source": [
    "df_train"
   ],
   "metadata": {
    "collapsed": false,
    "pycharm": {
     "name": "#%%\n"
    }
   }
  },
  {
   "cell_type": "code",
   "execution_count": 6,
   "outputs": [
    {
     "name": "stderr",
     "output_type": "stream",
     "text": [
      "100%|██████████| 12500/12500 [01:37<00:00, 127.99it/s]\n",
      "100%|██████████| 12500/12500 [01:32<00:00, 135.53it/s]\n"
     ]
    }
   ],
   "source": [
    "i = 0\n",
    "\n",
    "for filepath in tqdm(files_test_neg):\n",
    "    with open(filepath, 'r', encoding=\"utf-8\") as f:\n",
    "        star = int(filepath.split('_')[-1].split('.')[0]) - 1\n",
    "        df_test.loc[i] = [f.read(), star, 0]\n",
    "    i += 1\n",
    "\n",
    "for filepath in tqdm(files_test_pos):\n",
    "    with open(filepath, 'r', encoding=\"utf-8\") as f:\n",
    "        star = int(filepath.split('_')[-1].split('.')[0]) - 1\n",
    "        df_test.loc[i] = [f.read(), star, 1]\n",
    "    i += 1"
   ],
   "metadata": {
    "collapsed": false,
    "pycharm": {
     "name": "#%%\n"
    }
   }
  },
  {
   "cell_type": "code",
   "execution_count": 7,
   "outputs": [
    {
     "data": {
      "text/plain": "                                             review_text star_label  \\\n0      Once again Mr. Costner has dragged out a movie...          1   \n1      This is an example of why the majority of acti...          3   \n2      First of all I hate those moronic rappers, who...          0   \n3      Not even the Beatles could write songs everyon...          2   \n4      Brass pictures (movies is not a fitting word f...          2   \n...                                                  ...        ...   \n24995  I was extraordinarily impressed by this film. ...          7   \n24996  Although I'm not a golf fan, I attended a snea...          9   \n24997  From the start of \"The Edge Of Love\", the view...          7   \n24998  This movie, with all its complexity and subtle...          9   \n24999  I've seen this story before but my kids haven'...          6   \n\n      binary_label  \n0                0  \n1                0  \n2                0  \n3                0  \n4                0  \n...            ...  \n24995            1  \n24996            1  \n24997            1  \n24998            1  \n24999            1  \n\n[25000 rows x 3 columns]",
      "text/html": "<div>\n<style scoped>\n    .dataframe tbody tr th:only-of-type {\n        vertical-align: middle;\n    }\n\n    .dataframe tbody tr th {\n        vertical-align: top;\n    }\n\n    .dataframe thead th {\n        text-align: right;\n    }\n</style>\n<table border=\"1\" class=\"dataframe\">\n  <thead>\n    <tr style=\"text-align: right;\">\n      <th></th>\n      <th>review_text</th>\n      <th>star_label</th>\n      <th>binary_label</th>\n    </tr>\n  </thead>\n  <tbody>\n    <tr>\n      <th>0</th>\n      <td>Once again Mr. Costner has dragged out a movie...</td>\n      <td>1</td>\n      <td>0</td>\n    </tr>\n    <tr>\n      <th>1</th>\n      <td>This is an example of why the majority of acti...</td>\n      <td>3</td>\n      <td>0</td>\n    </tr>\n    <tr>\n      <th>2</th>\n      <td>First of all I hate those moronic rappers, who...</td>\n      <td>0</td>\n      <td>0</td>\n    </tr>\n    <tr>\n      <th>3</th>\n      <td>Not even the Beatles could write songs everyon...</td>\n      <td>2</td>\n      <td>0</td>\n    </tr>\n    <tr>\n      <th>4</th>\n      <td>Brass pictures (movies is not a fitting word f...</td>\n      <td>2</td>\n      <td>0</td>\n    </tr>\n    <tr>\n      <th>...</th>\n      <td>...</td>\n      <td>...</td>\n      <td>...</td>\n    </tr>\n    <tr>\n      <th>24995</th>\n      <td>I was extraordinarily impressed by this film. ...</td>\n      <td>7</td>\n      <td>1</td>\n    </tr>\n    <tr>\n      <th>24996</th>\n      <td>Although I'm not a golf fan, I attended a snea...</td>\n      <td>9</td>\n      <td>1</td>\n    </tr>\n    <tr>\n      <th>24997</th>\n      <td>From the start of \"The Edge Of Love\", the view...</td>\n      <td>7</td>\n      <td>1</td>\n    </tr>\n    <tr>\n      <th>24998</th>\n      <td>This movie, with all its complexity and subtle...</td>\n      <td>9</td>\n      <td>1</td>\n    </tr>\n    <tr>\n      <th>24999</th>\n      <td>I've seen this story before but my kids haven'...</td>\n      <td>6</td>\n      <td>1</td>\n    </tr>\n  </tbody>\n</table>\n<p>25000 rows × 3 columns</p>\n</div>"
     },
     "execution_count": 7,
     "metadata": {},
     "output_type": "execute_result"
    }
   ],
   "source": [
    "df_test"
   ],
   "metadata": {
    "collapsed": false,
    "pycharm": {
     "name": "#%%\n"
    }
   }
  },
  {
   "cell_type": "code",
   "execution_count": 8,
   "outputs": [],
   "source": [
    "csv1 = df_train.to_csv(\"IMDB_train.csv\", index=False)\n",
    "csv2 = df_test.to_csv(\"IMDB_test.csv\", index=False)"
   ],
   "metadata": {
    "collapsed": false,
    "pycharm": {
     "name": "#%%\n"
    }
   }
  }
 ],
 "metadata": {
  "kernelspec": {
   "display_name": "Python 3",
   "language": "python",
   "name": "python3"
  },
  "language_info": {
   "codemirror_mode": {
    "name": "ipython",
    "version": 2
   },
   "file_extension": ".py",
   "mimetype": "text/x-python",
   "name": "python",
   "nbconvert_exporter": "python",
   "pygments_lexer": "ipython2",
   "version": "2.7.6"
  }
 },
 "nbformat": 4,
 "nbformat_minor": 0
}